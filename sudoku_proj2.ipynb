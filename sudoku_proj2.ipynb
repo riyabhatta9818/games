{
  "nbformat": 4,
  "nbformat_minor": 0,
  "metadata": {
    "colab": {
      "provenance": [],
      "authorship_tag": "ABX9TyPgSTNmryHoGTQdP+PUQ3WI",
      "include_colab_link": true
    },
    "kernelspec": {
      "name": "python3",
      "display_name": "Python 3"
    },
    "language_info": {
      "name": "python"
    }
  },
  "cells": [
    {
      "cell_type": "markdown",
      "metadata": {
        "id": "view-in-github",
        "colab_type": "text"
      },
      "source": [
        "<a href=\"https://colab.research.google.com/github/riyabhatta9818/games/blob/main/sudoku_proj2.ipynb\" target=\"_parent\"><img src=\"https://colab.research.google.com/assets/colab-badge.svg\" alt=\"Open In Colab\"/></a>"
      ]
    },
    {
      "cell_type": "code",
      "execution_count": 1,
      "metadata": {
        "id": "JZ9F7FmXOQeR"
      },
      "outputs": [],
      "source": [
        "import numpy as np"
      ]
    },
    {
      "cell_type": "code",
      "source": [
        "grid=[[8,0,4,0,2,3,0,0,1],\n",
        "      [0,3,0,8,0,4,2,0,0],\n",
        "      [0,0,7,0,9,0,0,0,0],\n",
        "      [0,0,0,4,1,0,9,0,0],\n",
        "      [3,4,0,7,8,0,6,1,0],\n",
        "      [0,0,0,9,3,6,5,4,8],\n",
        "      [0,0,0,0,0,8,0,0,0],\n",
        "      [0,7,1,0,0,0,0,0,6],\n",
        "      [9,8,5,0,0,0,4,0,0]]"
      ],
      "metadata": {
        "id": "1o2yWb26OaQM"
      },
      "execution_count": 2,
      "outputs": []
    },
    {
      "cell_type": "code",
      "source": [
        "print(np.matrix(grid))"
      ],
      "metadata": {
        "colab": {
          "base_uri": "https://localhost:8080/"
        },
        "id": "3MXnSppHOdTn",
        "outputId": "82342152-3a2b-4a0c-c428-52649b0d71ee"
      },
      "execution_count": 3,
      "outputs": [
        {
          "output_type": "stream",
          "name": "stdout",
          "text": [
            "[[8 0 4 0 2 3 0 0 1]\n",
            " [0 3 0 8 0 4 2 0 0]\n",
            " [0 0 7 0 9 0 0 0 0]\n",
            " [0 0 0 4 1 0 9 0 0]\n",
            " [3 4 0 7 8 0 6 1 0]\n",
            " [0 0 0 9 3 6 5 4 8]\n",
            " [0 0 0 0 0 8 0 0 0]\n",
            " [0 7 1 0 0 0 0 0 6]\n",
            " [9 8 5 0 0 0 4 0 0]]\n"
          ]
        }
      ]
    },
    {
      "cell_type": "code",
      "source": [
        "def possible(row,column,number):\n",
        "# now we need to check if the same number is been repeating in the row,column or in box\n",
        "  global grid\n",
        "# if the number is been repeated in the same row or column then the same number should be removed\n",
        "# is the number been repeated in the row\n",
        "  for i in range(0,9):\n",
        "      if grid [row] [i] == number:\n",
        "          return False\n",
        "# is the number been repeated in the column\n",
        "  for i in range(0,9):\n",
        "      if grid [i] [column] == number:\n",
        "        return False\n",
        "# is the number been repeated in the square\n",
        "# there are 3 row and 3 column in one square box\n",
        "# for eg : if the given column is 6 then 6//3*3 , the outcome is 6\n",
        "# ... so if the outcome is 6 and i = 1 , then the outcome would be 7\n",
        "# so the number 7 is not been reapeated in the given column then it should return true otherwise false\n",
        "  x0 = (column//3) * 3\n",
        "  y0 = (row//3) * 3\n",
        "  for i in range(0,3):\n",
        "      for j in range(0,3):\n",
        "          if grid [y0+i][x0+j] == number:\n",
        "              return False\n",
        "  return True\n",
        "# but till now python doesnot know the exact correct ans in the a specific row , column , square\n",
        ""
      ],
      "metadata": {
        "id": "RBCReeONOhQR"
      },
      "execution_count": 9,
      "outputs": []
    },
    {
      "cell_type": "code",
      "source": [
        "def solve():\n",
        "    global grid\n",
        "# now we are going to check if the given field is empty or not because if it not empty then we donot want it to fill that field\n",
        "    for row in range(0,9):\n",
        "        for column in range(0,9):\n",
        "# if the row or column is 0 whih represents an empty field then it should continue to solve\n",
        "            if grid [row][column]==0:\n",
        "                for number in range(1,10):\n",
        "                    if possible (row,column,number):\n",
        "                        grid [row][column] = number\n",
        "                        solve()\n",
        "                        grid [row][column] = 0\n",
        "\n",
        "                return\n",
        "\n",
        "    print(np.matrix(grid))\n",
        "    input('more possible solution?')"
      ],
      "metadata": {
        "id": "d5mLz0gOQb4S"
      },
      "execution_count": 10,
      "outputs": []
    },
    {
      "cell_type": "code",
      "source": [
        "solve()"
      ],
      "metadata": {
        "colab": {
          "base_uri": "https://localhost:8080/"
        },
        "id": "WeAy5VZZOmLM",
        "outputId": "ce09c315-a4b8-4455-b900-ae7d3fc50771"
      },
      "execution_count": 11,
      "outputs": [
        {
          "name": "stdout",
          "output_type": "stream",
          "text": [
            "[[8 9 4 5 2 3 7 6 1]\n",
            " [1 3 6 8 7 4 2 9 5]\n",
            " [5 2 7 6 9 1 3 8 4]\n",
            " [6 5 8 4 1 2 9 3 7]\n",
            " [3 4 9 7 8 5 6 1 2]\n",
            " [7 1 2 9 3 6 5 4 8]\n",
            " [4 6 3 2 5 8 1 7 9]\n",
            " [2 7 1 3 4 9 8 5 6]\n",
            " [9 8 5 1 6 7 4 2 3]]\n",
            "more possible solution?\n"
          ]
        }
      ]
    },
    {
      "cell_type": "code",
      "source": [
        "grid=[[8,0,4,0,2,3,0,0,1],\n",
        "      [0,3,0,8,0,4,2,0,0],\n",
        "      [0,0,7,0,9,0,0,0,0],\n",
        "      [0,0,0,4,1,0,9,0,0],\n",
        "      [3,4,0,7,8,0,6,1,0],\n",
        "      [0,0,0,9,3,6,5,4,8],\n",
        "      [0,0,0,0,0,8,0,0,0],\n",
        "      [0,7,1,0,0,0,0,0,6],\n",
        "      [9,8,5,0,0,0,4,0,3]]"
      ],
      "metadata": {
        "id": "wkK8W1d7OtW3"
      },
      "execution_count": 12,
      "outputs": []
    },
    {
      "cell_type": "code",
      "source": [
        "solve()"
      ],
      "metadata": {
        "colab": {
          "base_uri": "https://localhost:8080/"
        },
        "id": "5-6OLe8HO2dB",
        "outputId": "d1a1e651-736b-4bf0-f305-61f07c514108"
      },
      "execution_count": 13,
      "outputs": [
        {
          "name": "stdout",
          "output_type": "stream",
          "text": [
            "[[8 9 4 5 2 3 7 6 1]\n",
            " [1 3 6 8 7 4 2 9 5]\n",
            " [5 2 7 6 9 1 3 8 4]\n",
            " [6 5 8 4 1 2 9 3 7]\n",
            " [3 4 9 7 8 5 6 1 2]\n",
            " [7 1 2 9 3 6 5 4 8]\n",
            " [4 6 3 2 5 8 1 7 9]\n",
            " [2 7 1 3 4 9 8 5 6]\n",
            " [9 8 5 1 6 7 4 2 3]]\n",
            "more possible solution?\n"
          ]
        }
      ]
    },
    {
      "cell_type": "code",
      "source": [],
      "metadata": {
        "id": "Sh9aMdYWO3vp"
      },
      "execution_count": null,
      "outputs": []
    }
  ]
}